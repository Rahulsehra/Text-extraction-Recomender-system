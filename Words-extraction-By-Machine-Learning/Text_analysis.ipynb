{
 "cells": [
  {
   "cell_type": "code",
   "execution_count": 1,
   "metadata": {},
   "outputs": [],
   "source": [
    "import pandas as pd \n",
    "import numpy as np\n",
    "import math\n",
    "from bs4 import BeautifulSoup\n",
    "import requests\n",
    "import os"
   ]
  },
  {
   "cell_type": "code",
   "execution_count": 2,
   "metadata": {},
   "outputs": [],
   "source": [
    "df  = pd.read_excel(\"input.xlsx\")"
   ]
  },
  {
   "cell_type": "code",
   "execution_count": 3,
   "metadata": {},
   "outputs": [
    {
     "data": {
      "text/html": [
       "<div>\n",
       "<style scoped>\n",
       "    .dataframe tbody tr th:only-of-type {\n",
       "        vertical-align: middle;\n",
       "    }\n",
       "\n",
       "    .dataframe tbody tr th {\n",
       "        vertical-align: top;\n",
       "    }\n",
       "\n",
       "    .dataframe thead th {\n",
       "        text-align: right;\n",
       "    }\n",
       "</style>\n",
       "<table border=\"1\" class=\"dataframe\">\n",
       "  <thead>\n",
       "    <tr style=\"text-align: right;\">\n",
       "      <th></th>\n",
       "      <th>URL_ID</th>\n",
       "      <th>sea instapic instagram trip travel</th>\n",
       "    </tr>\n",
       "  </thead>\n",
       "  <tbody>\n",
       "    <tr>\n",
       "      <th>0</th>\n",
       "      <td>1</td>\n",
       "      <td>sea</td>\n",
       "    </tr>\n",
       "    <tr>\n",
       "      <th>1</th>\n",
       "      <td>2</td>\n",
       "      <td>sea love</td>\n",
       "    </tr>\n",
       "    <tr>\n",
       "      <th>2</th>\n",
       "      <td>3</td>\n",
       "      <td>beach sea trip island japan</td>\n",
       "    </tr>\n",
       "    <tr>\n",
       "      <th>3</th>\n",
       "      <td>4</td>\n",
       "      <td>sun sand sea sky friend beach thailand trip ad...</td>\n",
       "    </tr>\n",
       "    <tr>\n",
       "      <th>4</th>\n",
       "      <td>5</td>\n",
       "      <td>vsco vscocam blue bluesky sea nature naturelov...</td>\n",
       "    </tr>\n",
       "    <tr>\n",
       "      <th>...</th>\n",
       "      <td>...</td>\n",
       "      <td>...</td>\n",
       "    </tr>\n",
       "    <tr>\n",
       "      <th>145</th>\n",
       "      <td>146</td>\n",
       "      <td>sea</td>\n",
       "    </tr>\n",
       "    <tr>\n",
       "      <th>146</th>\n",
       "      <td>147</td>\n",
       "      <td>luxury homesweethome beautiful life russia des...</td>\n",
       "    </tr>\n",
       "    <tr>\n",
       "      <th>147</th>\n",
       "      <td>148</td>\n",
       "      <td>sol book amor sea sun</td>\n",
       "    </tr>\n",
       "    <tr>\n",
       "      <th>148</th>\n",
       "      <td>149</td>\n",
       "      <td>travel trip picoftheday nature relax chilling ...</td>\n",
       "    </tr>\n",
       "    <tr>\n",
       "      <th>149</th>\n",
       "      <td>150</td>\n",
       "      <td>artwork artist art water paint painting landsc...</td>\n",
       "    </tr>\n",
       "  </tbody>\n",
       "</table>\n",
       "<p>150 rows × 2 columns</p>\n",
       "</div>"
      ],
      "text/plain": [
       "     URL_ID                sea instapic instagram trip travel \n",
       "0         1                                               sea \n",
       "1         2                                          sea love \n",
       "2         3                       beach sea trip island japan \n",
       "3         4  sun sand sea sky friend beach thailand trip ad...\n",
       "4         5  vsco vscocam blue bluesky sea nature naturelov...\n",
       "..      ...                                                ...\n",
       "145     146                                               sea \n",
       "146     147  luxury homesweethome beautiful life russia des...\n",
       "147     148                             sol book amor sea sun \n",
       "148     149  travel trip picoftheday nature relax chilling ...\n",
       "149     150  artwork artist art water paint painting landsc...\n",
       "\n",
       "[150 rows x 2 columns]"
      ]
     },
     "execution_count": 3,
     "metadata": {},
     "output_type": "execute_result"
    }
   ],
   "source": [
    "df"
   ]
  },
  {
   "cell_type": "code",
   "execution_count": 6,
   "metadata": {},
   "outputs": [],
   "source": [
    "with open('Love_words.txt','r') as f:\n",
    "    Lovewords=f.read()"
   ]
  },
  {
   "cell_type": "code",
   "execution_count": 7,
   "metadata": {},
   "outputs": [],
   "source": [
    "Love_words=Lovewords.split('\\n')"
   ]
  },
  {
   "cell_type": "code",
   "execution_count": 8,
   "metadata": {},
   "outputs": [
    {
     "data": {
      "text/plain": [
       "['love                 ',\n",
       " 'friend              ',\n",
       " 'beach                ',\n",
       " 'family              ',\n",
       " 'yellow              ',\n",
       " 'girl                ',\n",
       " 'fashion             ',\n",
       " 'nike                ',\n",
       " 'snow                ',\n",
       " 'happy               ',\n",
       " 'bored                ',\n",
       " 'school               ',\n",
       " 'beautiful            ',\n",
       " 'tired                ',\n",
       " 'black                ',\n",
       " 'sun                  ',\n",
       " 'selfie               ',\n",
       " 'instagood            ',\n",
       " 'nature               ',\n",
       " 'smile                ',\n",
       " 'spring']"
      ]
     },
     "execution_count": 8,
     "metadata": {},
     "output_type": "execute_result"
    }
   ],
   "source": [
    "Love_words"
   ]
  },
  {
   "cell_type": "code",
   "execution_count": 10,
   "metadata": {},
   "outputs": [],
   "source": [
    "with open('negative-words.txt','r') as f1:\n",
    "    negativewords=f1.read()"
   ]
  },
  {
   "cell_type": "code",
   "execution_count": 11,
   "metadata": {},
   "outputs": [],
   "source": [
    "negative_words=negativewords.split('\\n')"
   ]
  },
  {
   "cell_type": "code",
   "execution_count": 12,
   "metadata": {},
   "outputs": [
    {
     "data": {
      "text/plain": [
       "['snowboard            ',\n",
       " 'sepatu               ',\n",
       " 'instachile           ',\n",
       " 'gorgeous             ',\n",
       " 'sunglass             ',\n",
       " 'baking               ',\n",
       " 'passion              ',\n",
       " 'homesweethome        ',\n",
       " 'oldschool            ',\n",
       " 'people               ',\n",
       " 'springtime           ',\n",
       " 'fashionblogger       ',\n",
       " 'training             ',\n",
       " 'basketball           ',\n",
       " 'lmao                 ',\n",
       " 'foodpic              ',\n",
       " 'instatravel          ',\n",
       " 'lake                 ',\n",
       " 'with                 ',\n",
       " 'guy                  ',\n",
       " 'game                 ',\n",
       " 'grunge               ',\n",
       " 'football             ',\n",
       " 'nba                  ',\n",
       " 'gayboy               ',\n",
       " 'hiphop               ',\n",
       " 'taylorswift          ',\n",
       " 'bar              ']"
      ]
     },
     "execution_count": 12,
     "metadata": {},
     "output_type": "execute_result"
    }
   ],
   "source": [
    "negative_words"
   ]
  },
  {
   "cell_type": "code",
   "execution_count": null,
   "metadata": {},
   "outputs": [],
   "source": []
  },
  {
   "cell_type": "code",
   "execution_count": null,
   "metadata": {},
   "outputs": [],
   "source": []
  },
  {
   "cell_type": "code",
   "execution_count": null,
   "metadata": {},
   "outputs": [],
   "source": []
  },
  {
   "cell_type": "code",
   "execution_count": null,
   "metadata": {},
   "outputs": [],
   "source": []
  },
  {
   "cell_type": "code",
   "execution_count": null,
   "metadata": {},
   "outputs": [],
   "source": []
  },
  {
   "cell_type": "code",
   "execution_count": null,
   "metadata": {},
   "outputs": [],
   "source": []
  }
 ],
 "metadata": {
  "kernelspec": {
   "display_name": "Python 3",
   "language": "python",
   "name": "python3"
  },
  "language_info": {
   "codemirror_mode": {
    "name": "ipython",
    "version": 3
   },
   "file_extension": ".py",
   "mimetype": "text/x-python",
   "name": "python",
   "nbconvert_exporter": "python",
   "pygments_lexer": "ipython3",
   "version": "3.11.2"
  },
  "orig_nbformat": 4
 },
 "nbformat": 4,
 "nbformat_minor": 2
}
